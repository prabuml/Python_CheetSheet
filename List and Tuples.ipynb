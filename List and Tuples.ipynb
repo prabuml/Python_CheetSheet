{
 "cells": [
  {
   "cell_type": "markdown",
   "metadata": {},
   "source": [
    "List\n",
    "<br>\n",
    "&emsp; Dynamic sized arrays\n",
    "<br>\n",
    "&emsp; Can store different types of variables such as integer, string etc"
   ]
  },
  {
   "cell_type": "code",
   "execution_count": 1,
   "metadata": {},
   "outputs": [],
   "source": [
    "# Simple List\n",
    "a= [1,3,5]"
   ]
  },
  {
   "cell_type": "code",
   "execution_count": 2,
   "metadata": {},
   "outputs": [],
   "source": [
    "# List with different types\n",
    "a = [\"1\",1,1.0]"
   ]
  },
  {
   "cell_type": "code",
   "execution_count": 3,
   "metadata": {},
   "outputs": [
    {
     "name": "stdout",
     "output_type": "stream",
     "text": [
      "['1', 1, 1.0, 2]\n"
     ]
    }
   ],
   "source": [
    "# To insert element in element\n",
    "a.append(2)\n",
    "print(a)\n",
    "# The operation takes o(1)"
   ]
  },
  {
   "cell_type": "code",
   "execution_count": 4,
   "metadata": {},
   "outputs": [
    {
     "name": "stdout",
     "output_type": "stream",
     "text": [
      "['1', 1, 3, 1.0, 2]\n"
     ]
    }
   ],
   "source": [
    "# To insert element at a postion\n",
    "a.insert(2,3)\n",
    "print(a)\n",
    "# The operation takes O(n)"
   ]
  },
  {
   "cell_type": "code",
   "execution_count": 5,
   "metadata": {},
   "outputs": [
    {
     "name": "stdout",
     "output_type": "stream",
     "text": [
      "['1', 1, 3, 1.0, 2, 'x', 'y', 'z']\n"
     ]
    }
   ],
   "source": [
    "# To combine two list\n",
    "b = [\"x\",\"y\",\"z\"]\n",
    "a.extend(b)\n",
    "print(a)"
   ]
  },
  {
   "cell_type": "code",
   "execution_count": 6,
   "metadata": {},
   "outputs": [
    {
     "name": "stdout",
     "output_type": "stream",
     "text": [
      "['1', 1, 3, 1.0, 2, 'y', 'z']\n"
     ]
    }
   ],
   "source": [
    "# To remove the element in the list\n",
    "a.remove('x')\n",
    "print(a)\n",
    "# Element should be present in the list, otherwise error will be thrown\n",
    "# The operation takes O(n)"
   ]
  },
  {
   "cell_type": "code",
   "execution_count": 7,
   "metadata": {},
   "outputs": [
    {
     "name": "stdout",
     "output_type": "stream",
     "text": [
      "['1', 1, 1.0, 2, 'y', 'z']\n"
     ]
    }
   ],
   "source": [
    "# To remove the element from a given location\n",
    "a.pop(2)\n",
    "print(a)\n",
    "# The operation takes O(n)."
   ]
  },
  {
   "cell_type": "code",
   "execution_count": 8,
   "metadata": {},
   "outputs": [
    {
     "data": {
      "text/plain": [
       "2"
      ]
     },
     "execution_count": 8,
     "metadata": {},
     "output_type": "execute_result"
    }
   ],
   "source": [
    "# To get the count of given element\n",
    "a.count(1)\n",
    "# The operation takes O(n)."
   ]
  },
  {
   "cell_type": "code",
   "execution_count": 9,
   "metadata": {},
   "outputs": [
    {
     "name": "stdout",
     "output_type": "stream",
     "text": [
      "['1', 1, 1.0, 2, 'y', 'z'] ['1', 1, 1.0, 2, 'y', 'z', 100]\n"
     ]
    }
   ],
   "source": [
    "# To shallow copy a list\n",
    "b= a.copy()\n",
    "# The operation takes O(n).\n",
    "b.append(100)\n",
    "print(a,b)\n",
    "# value of a is not changed"
   ]
  },
  {
   "cell_type": "code",
   "execution_count": 10,
   "metadata": {},
   "outputs": [
    {
     "name": "stdout",
     "output_type": "stream",
     "text": [
      "['z', 'y', 2, 1.0, 1, '1']\n"
     ]
    }
   ],
   "source": [
    "# To reverse a list\n",
    "a.reverse()\n",
    "print(a)\n",
    "# The operation takes O(n)."
   ]
  },
  {
   "cell_type": "code",
   "execution_count": 11,
   "metadata": {},
   "outputs": [
    {
     "data": {
      "text/plain": [
       "True"
      ]
     },
     "execution_count": 11,
     "metadata": {},
     "output_type": "execute_result"
    }
   ],
   "source": [
    "# To search element in a list\n",
    "'z' in a\n",
    "# The operation takes O(n)."
   ]
  },
  {
   "cell_type": "code",
   "execution_count": 12,
   "metadata": {},
   "outputs": [
    {
     "name": "stdout",
     "output_type": "stream",
     "text": [
      "[3, 4, 5]\n"
     ]
    }
   ],
   "source": [
    "# To sort a list\n",
    "b=[4,3,5]\n",
    "b.sort()\n",
    "print(b)\n",
    "# The operation takes O(nlogn)."
   ]
  },
  {
   "cell_type": "code",
   "execution_count": 13,
   "metadata": {},
   "outputs": [
    {
     "name": "stdout",
     "output_type": "stream",
     "text": [
      "z\n",
      "y\n",
      "2\n",
      "1.0\n",
      "1\n",
      "1\n"
     ]
    }
   ],
   "source": [
    "# To iterate all the elements in the list\n",
    "for each in a:\n",
    "    print(each)"
   ]
  },
  {
   "cell_type": "code",
   "execution_count": 14,
   "metadata": {},
   "outputs": [
    {
     "name": "stdout",
     "output_type": "stream",
     "text": [
      "0 - z\n",
      "1 - y\n",
      "2 - 2\n",
      "3 - 1.0\n",
      "4 - 1\n",
      "5 - 1\n"
     ]
    }
   ],
   "source": [
    "# To iterate all the elements along with index in the list\n",
    "for index, each in enumerate(a):\n",
    "    print(index,\"-\",each)"
   ]
  },
  {
   "cell_type": "code",
   "execution_count": 15,
   "metadata": {},
   "outputs": [
    {
     "data": {
      "text/plain": [
       "'y'"
      ]
     },
     "execution_count": 15,
     "metadata": {},
     "output_type": "execute_result"
    }
   ],
   "source": [
    "# To access a given location\n",
    "i=2\n",
    "a[1]\n",
    "# The operation takes O(1)."
   ]
  },
  {
   "cell_type": "code",
   "execution_count": 16,
   "metadata": {},
   "outputs": [
    {
     "data": {
      "text/plain": [
       "1"
      ]
     },
     "execution_count": 16,
     "metadata": {},
     "output_type": "execute_result"
    }
   ],
   "source": [
    "# To get the index of given element\n",
    "a.index('y')\n",
    "# The operation takes O(1)."
   ]
  },
  {
   "cell_type": "code",
   "execution_count": 17,
   "metadata": {},
   "outputs": [
    {
     "name": "stdout",
     "output_type": "stream",
     "text": [
      "['y', 2, 1.0]\n",
      "['z', 'y', 2, 1.0]\n",
      "['y', 2, 1.0, 1, '1']\n"
     ]
    }
   ],
   "source": [
    "# To get sublist\n",
    "i=1\n",
    "j=4\n",
    "print(a[i:j])\n",
    "# The operation extract element from i to j-1\n",
    "\n",
    "print(a[:j])\n",
    "# The operation extract element from 0 to j-1\n",
    "\n",
    "print(a[i:])\n",
    "# The operation extract element from i to last element"
   ]
  },
  {
   "cell_type": "code",
   "execution_count": 18,
   "metadata": {},
   "outputs": [
    {
     "name": "stdout",
     "output_type": "stream",
     "text": [
      "['z_', 'y_', '1_']\n"
     ]
    }
   ],
   "source": [
    "# List comprehensions\n",
    "# To create new list from given list based on some condition\n",
    "b = [x+\"_\" for x in a if isinstance(x, str)]\n",
    "print(b)\n",
    "# The operation takes O(n)."
   ]
  },
  {
   "cell_type": "code",
   "execution_count": 31,
   "metadata": {},
   "outputs": [
    {
     "name": "stdout",
     "output_type": "stream",
     "text": [
      "<map object at 0x0000016582DB83C8>\n",
      "1\n",
      "4\n",
      "16\n",
      "36\n"
     ]
    },
    {
     "data": {
      "text/plain": [
       "[]"
      ]
     },
     "execution_count": 31,
     "metadata": {},
     "output_type": "execute_result"
    }
   ],
   "source": [
    "# Map function- To suitable perform operation in large items\n",
    "# Advantage is that it does not store all the values at once\n",
    "def square(x):\n",
    "    return x*x\n",
    "y=[1,2,4,6]\n",
    "c=map(square,y)\n",
    "print(c)\n",
    "for x in c:\n",
    "    print(x)\n",
    "    \n",
    "# After the operations, list become empty\n",
    "list(c)"
   ]
  },
  {
   "cell_type": "code",
   "execution_count": 33,
   "metadata": {},
   "outputs": [
    {
     "name": "stdout",
     "output_type": "stream",
     "text": [
      "[1, 3]\n"
     ]
    }
   ],
   "source": [
    "# Filter function- To filter out based on some condition\n",
    "def odd(x):\n",
    "    return x%2!=0\n",
    "y=[1,2,3,4,6]\n",
    "c=filter(odd,y)\n",
    "print(list(c))"
   ]
  },
  {
   "cell_type": "code",
   "execution_count": 40,
   "metadata": {},
   "outputs": [
    {
     "name": "stdout",
     "output_type": "stream",
     "text": [
      "144\n"
     ]
    }
   ],
   "source": [
    "from functools import reduce\n",
    "#Reduce function- To perform operation between two value at the time\n",
    "def multiple(x,y):\n",
    "    return x*y\n",
    "y=[1,2,3,4,6]\n",
    "c=reduce(multiple,y)\n",
    "print(c)"
   ]
  },
  {
   "cell_type": "markdown",
   "metadata": {},
   "source": [
    "Tuples\n",
    "<br>\n",
    "&emsp; Tuples have same operations like list but values are constants and can not be changed\n",
    "<br>\n",
    "&emsp; Tuples use parentheses, whereas lists use square brackets"
   ]
  },
  {
   "cell_type": "code",
   "execution_count": null,
   "metadata": {},
   "outputs": [],
   "source": []
  },
  {
   "cell_type": "code",
   "execution_count": 19,
   "metadata": {},
   "outputs": [],
   "source": [
    "list_a=[1,2,3]\n",
    "tuple_a = (1,2,3)"
   ]
  },
  {
   "cell_type": "code",
   "execution_count": 20,
   "metadata": {},
   "outputs": [],
   "source": [
    "list_a[1]=4"
   ]
  },
  {
   "cell_type": "code",
   "execution_count": 21,
   "metadata": {},
   "outputs": [
    {
     "ename": "TypeError",
     "evalue": "'tuple' object does not support item assignment",
     "output_type": "error",
     "traceback": [
      "\u001b[1;31m---------------------------------------------------------------------------\u001b[0m",
      "\u001b[1;31mTypeError\u001b[0m                                 Traceback (most recent call last)",
      "\u001b[1;32m<ipython-input-21-627c9406b2d7>\u001b[0m in \u001b[0;36m<module>\u001b[1;34m\u001b[0m\n\u001b[1;32m----> 1\u001b[1;33m \u001b[0mtuple_a\u001b[0m\u001b[1;33m[\u001b[0m\u001b[1;36m1\u001b[0m\u001b[1;33m]\u001b[0m\u001b[1;33m=\u001b[0m\u001b[1;36m5\u001b[0m\u001b[1;33m\u001b[0m\u001b[1;33m\u001b[0m\u001b[0m\n\u001b[0m",
      "\u001b[1;31mTypeError\u001b[0m: 'tuple' object does not support item assignment"
     ]
    }
   ],
   "source": [
    "tuple_a[1]=5"
   ]
  },
  {
   "cell_type": "code",
   "execution_count": null,
   "metadata": {},
   "outputs": [],
   "source": [
    "# "
   ]
  }
 ],
 "metadata": {
  "kernelspec": {
   "display_name": "Python 3",
   "language": "python",
   "name": "python3"
  },
  "language_info": {
   "codemirror_mode": {
    "name": "ipython",
    "version": 3
   },
   "file_extension": ".py",
   "mimetype": "text/x-python",
   "name": "python",
   "nbconvert_exporter": "python",
   "pygments_lexer": "ipython3",
   "version": "3.6.7"
  }
 },
 "nbformat": 4,
 "nbformat_minor": 4
}
