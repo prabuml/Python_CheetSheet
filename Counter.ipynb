{
 "cells": [
  {
   "cell_type": "markdown",
   "metadata": {},
   "source": [
    "Counter \n",
    "<br>\n",
    "&emsp; The counter can be used to calculate the frequency in a list or in a string"
   ]
  },
  {
   "cell_type": "code",
   "execution_count": 21,
   "metadata": {},
   "outputs": [],
   "source": [
    "from collections import Counter"
   ]
  },
  {
   "cell_type": "code",
   "execution_count": 22,
   "metadata": {},
   "outputs": [
    {
     "name": "stdout",
     "output_type": "stream",
     "text": [
      "Counter({'o': 2, ' ': 2, 'h': 1, 'w': 1, 'a': 1, 'r': 1, 'e': 1, 'y': 1, 'u': 1})\n",
      "Counter({1: 2, 2: 2, 4: 2})\n"
     ]
    }
   ],
   "source": [
    "# Sample use of Counter\n",
    "\n",
    "a=\"how are you\"\n",
    "b=Counter(a)\n",
    "print(b)\n",
    "a = [1,1,2,2,4,4]\n",
    "c=Counter(a)\n",
    "print(c)"
   ]
  },
  {
   "cell_type": "code",
   "execution_count": 24,
   "metadata": {},
   "outputs": [
    {
     "name": "stdout",
     "output_type": "stream",
     "text": [
      "dict_keys(['h', 'o', 'w', ' ', 'a', 'r', 'e', 'y', 'u'])\n",
      "dict_values([1, 2, 1, 2, 1, 1, 1, 1, 1])\n",
      "dict_items([('h', 1), ('o', 2), ('w', 1), (' ', 2), ('a', 1), ('r', 1), ('e', 1), ('y', 1), ('u', 1)])\n",
      "Counter({'o': 2, ' ': 2, 'w': 1, 'a': 1, 'r': 1, 'e': 1, 'y': 1, 'u': 1})\n"
     ]
    }
   ],
   "source": [
    "# Counter can perform all the operation like set\n",
    "\n",
    "# Get all the keys\n",
    "\n",
    "print(b.keys())\n",
    "\n",
    "# Get all the values\n",
    "\n",
    "print(b.values())\n",
    "\n",
    "# Get all the item pair\n",
    "print(b.items())\n",
    "\n",
    "#pop the key\n",
    "\n",
    "b.pop('h')\n",
    "print(b)"
   ]
  },
  {
   "cell_type": "code",
   "execution_count": 9,
   "metadata": {},
   "outputs": [
    {
     "data": {
      "text/plain": [
       "dict_values([1, 2, 1, 2, 1, 1, 1, 1, 1])"
      ]
     },
     "execution_count": 9,
     "metadata": {},
     "output_type": "execute_result"
    }
   ],
   "source": []
  },
  {
   "cell_type": "code",
   "execution_count": 13,
   "metadata": {},
   "outputs": [
    {
     "name": "stdout",
     "output_type": "stream",
     "text": [
      "Counter({2: 1})\n",
      "Counter({1: 2, 2: 2, 3: 1})\n",
      "Counter({2: 3, 1: 2, 3: 1})\n",
      "Counter({1: 2})\n"
     ]
    }
   ],
   "source": [
    "# Counter can perform all the operation like set\n",
    "\n",
    "a=[1,1,2]\n",
    "b=[2,2,3]\n",
    "\n",
    "a_co = Counter(a)\n",
    "b_co = Counter(b)\n",
    "\n",
    "# Interseraction between counter\n",
    "print(a_co & b_co)\n",
    "\n",
    "# Union between counter\n",
    "print(a_co | b_co)\n",
    "\n",
    "# Add two counter\n",
    "print(a_co+b_co)\n",
    "\n",
    "# Substract two counter\n",
    "print(a_co-b_co)"
   ]
  },
  {
   "cell_type": "code",
   "execution_count": 28,
   "metadata": {},
   "outputs": [
    {
     "data": {
      "text/plain": [
       "[(2, 2)]"
      ]
     },
     "execution_count": 28,
     "metadata": {},
     "output_type": "execute_result"
    }
   ],
   "source": [
    "# To get the most frequent element in counter\n",
    "\n",
    "b_co.most_common(1)"
   ]
  },
  {
   "cell_type": "code",
   "execution_count": null,
   "metadata": {},
   "outputs": [],
   "source": []
  }
 ],
 "metadata": {
  "kernelspec": {
   "display_name": "Python 3",
   "language": "python",
   "name": "python3"
  },
  "language_info": {
   "codemirror_mode": {
    "name": "ipython",
    "version": 3
   },
   "file_extension": ".py",
   "mimetype": "text/x-python",
   "name": "python",
   "nbconvert_exporter": "python",
   "pygments_lexer": "ipython3",
   "version": "3.6.7"
  }
 },
 "nbformat": 4,
 "nbformat_minor": 4
}
