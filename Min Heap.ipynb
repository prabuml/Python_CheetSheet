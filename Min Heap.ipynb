{
 "cells": [
  {
   "cell_type": "markdown",
   "metadata": {},
   "source": [
    "Heapq (Min Heap)\n",
    "\n",
    "<br>\n",
    "&emsp; Heapq implements the min heap algorithm. \n",
    "<br>\n",
    "&emsp; It is applicable for priority queue problems"
   ]
  },
  {
   "cell_type": "code",
   "execution_count": 1,
   "metadata": {},
   "outputs": [],
   "source": [
    "from heapq import heappush, heappop,heapify,heappushpop, nlargest,nsmallest"
   ]
  },
  {
   "cell_type": "code",
   "execution_count": 2,
   "metadata": {},
   "outputs": [
    {
     "name": "stdout",
     "output_type": "stream",
     "text": [
      "[-1, 1, 100, 10]\n"
     ]
    }
   ],
   "source": [
    "# Add elements to min heap\n",
    "\n",
    "heap=[]\n",
    "heappush(heap,1)\n",
    "heappush(heap,10)\n",
    "heappush(heap,100)\n",
    "heappush(heap,-1)\n",
    "print(heap)\n",
    "\n",
    "# Elements are present in min heap format \n",
    "# it is not sorted array"
   ]
  },
  {
   "cell_type": "code",
   "execution_count": 3,
   "metadata": {},
   "outputs": [
    {
     "name": "stdout",
     "output_type": "stream",
     "text": [
      "-1 [1, 10, 100]\n",
      "1 [10, 100]\n",
      "10 [100]\n"
     ]
    }
   ],
   "source": [
    "# pop elements to min heap\n",
    "print(heappop(heap),heap)\n",
    "print(heappop(heap),heap)\n",
    "print(heappop(heap),heap)"
   ]
  },
  {
   "cell_type": "code",
   "execution_count": null,
   "metadata": {},
   "outputs": [],
   "source": []
  },
  {
   "cell_type": "code",
   "execution_count": 5,
   "metadata": {},
   "outputs": [
    {
     "data": {
      "text/plain": [
       "[-1, 2, 7, 5]"
      ]
     },
     "execution_count": 5,
     "metadata": {},
     "output_type": "execute_result"
    }
   ],
   "source": [
    "# To heap a list directly\n",
    "heap=[2,5,7,-1]\n",
    "heapify(heap)\n",
    "heap"
   ]
  },
  {
   "cell_type": "code",
   "execution_count": 6,
   "metadata": {},
   "outputs": [
    {
     "name": "stdout",
     "output_type": "stream",
     "text": [
      "-1\n"
     ]
    },
    {
     "data": {
      "text/plain": [
       "[2, 5, 7, 1000]"
      ]
     },
     "execution_count": 6,
     "metadata": {},
     "output_type": "execute_result"
    }
   ],
   "source": [
    "# Insert the element and pop the min element\n",
    "\n",
    "print(heappushpop(heap, 1000))\n",
    "heap"
   ]
  },
  {
   "cell_type": "code",
   "execution_count": 8,
   "metadata": {},
   "outputs": [
    {
     "name": "stdout",
     "output_type": "stream",
     "text": [
      "[1000, 7]\n"
     ]
    },
    {
     "data": {
      "text/plain": [
       "[2, 5, 7, 1000]"
      ]
     },
     "execution_count": 8,
     "metadata": {},
     "output_type": "execute_result"
    }
   ],
   "source": [
    "# To get the n largest element\n",
    "print(nlargest(2,heap))\n",
    "heap\n",
    "# nlargest does not pop the element"
   ]
  },
  {
   "cell_type": "code",
   "execution_count": 9,
   "metadata": {},
   "outputs": [
    {
     "data": {
      "text/plain": [
       "[2, 5]"
      ]
     },
     "execution_count": 9,
     "metadata": {},
     "output_type": "execute_result"
    }
   ],
   "source": [
    "# To get the n smallest element\n",
    "nsmallest(2,heap)"
   ]
  },
  {
   "cell_type": "code",
   "execution_count": 11,
   "metadata": {},
   "outputs": [
    {
     "data": {
      "text/plain": [
       "[(4, [1, 4, 5]), (10, [1, 10, 100]), (100, [1, 100, 10])]"
      ]
     },
     "execution_count": 11,
     "metadata": {},
     "output_type": "execute_result"
    }
   ],
   "source": [
    "# To leap a list, create the tuple with the element that requires to sorted\n",
    "\n",
    "heap=[]\n",
    "heappush(heap,(4,[1,4,5]))\n",
    "heappush(heap,(10,[1,10,100]))\n",
    "heappush(heap,(100,[1,100,10]))\n",
    "\n",
    "# In this case, 2 element is choosen as the indiced element\n",
    "heap"
   ]
  }
 ],
 "metadata": {
  "kernelspec": {
   "display_name": "Python 3",
   "language": "python",
   "name": "python3"
  },
  "language_info": {
   "codemirror_mode": {
    "name": "ipython",
    "version": 3
   },
   "file_extension": ".py",
   "mimetype": "text/x-python",
   "name": "python",
   "nbconvert_exporter": "python",
   "pygments_lexer": "ipython3",
   "version": "3.6.7"
  }
 },
 "nbformat": 4,
 "nbformat_minor": 4
}
