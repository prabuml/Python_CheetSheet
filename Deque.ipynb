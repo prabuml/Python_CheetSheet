{
 "cells": [
  {
   "cell_type": "markdown",
   "metadata": {},
   "source": [
    "Deque\n",
    "<br>\n",
    "&emsp; Deque is mainly used for stack and queue operation. \n",
    "<br>\n",
    "&emsp; Advantage of deque over list is that it takes o(1) time complexity for append and pop operation"
   ]
  },
  {
   "cell_type": "code",
   "execution_count": 1,
   "metadata": {},
   "outputs": [],
   "source": [
    "from collections import deque"
   ]
  },
  {
   "cell_type": "code",
   "execution_count": 2,
   "metadata": {},
   "outputs": [],
   "source": [
    "de = deque([1, 2, 3, 3, 4, 2, 4]) \n"
   ]
  },
  {
   "cell_type": "code",
   "execution_count": 3,
   "metadata": {},
   "outputs": [
    {
     "name": "stdout",
     "output_type": "stream",
     "text": [
      "deque([1, 2, 3, 3, 4, 2, 4, 10])\n",
      "deque([-1, 1, 2, 3, 3, 4, 2, 4, 10])\n"
     ]
    }
   ],
   "source": [
    "# To append at the end\n",
    "de.append(10)\n",
    "print(de)\n",
    "de.appendleft(-1)\n",
    "print(de)\n",
    "# To append at the begining"
   ]
  },
  {
   "cell_type": "code",
   "execution_count": 4,
   "metadata": {},
   "outputs": [
    {
     "name": "stdout",
     "output_type": "stream",
     "text": [
      "deque([-1, 1, 2, 3, 3, 4, 2, 4, 10, 10])\n",
      "deque([-1, -1, 1, 2, 3, 3, 4, 2, 4, 10, 10])\n"
     ]
    }
   ],
   "source": [
    "# To remove at the end\n",
    "de.append(10)\n",
    "print(de)\n",
    "de.appendleft(-1)\n",
    "print(de)\n",
    "# To remove at the begining"
   ]
  },
  {
   "cell_type": "code",
   "execution_count": 6,
   "metadata": {},
   "outputs": [
    {
     "name": "stdout",
     "output_type": "stream",
     "text": [
      "deque([-1, -1, 1, 2, 3, 3, 4, 2, 4, 10, 10, 100])\n",
      "deque([100, -1, -1, 1, 2, 3, 3, 4, 2, 4, 10, 10, 100])\n"
     ]
    }
   ],
   "source": [
    "# To extend at the end\n",
    "new= deque([100])\n",
    "de.extend(new)\n",
    "print(de)\n",
    "de.extendleft(new)\n",
    "print(de)\n",
    "# To extend at the begining"
   ]
  },
  {
   "cell_type": "code",
   "execution_count": 7,
   "metadata": {},
   "outputs": [
    {
     "name": "stdout",
     "output_type": "stream",
     "text": [
      "deque([100, -1, -1, 1, 2, 3, 3, 4, 2, 4, 10, 10, 100])\n",
      "deque([100, -1, -1, 1, 2, 3, 3, 4, 2, 4, 10, 10, 100])\n",
      "deque([10, 100, 100, -1, -1, 1, 2, 3, 3, 4, 2, 4, 10])\n"
     ]
    }
   ],
   "source": [
    "# Other similar operations of list are applicable\n",
    "\n",
    "# To reverse the deque\n",
    "reversed(de)  \n",
    "print(de)\n",
    "\n",
    "# To sort the deque\n",
    "sorted(de)\n",
    "print(de)\n",
    "\n",
    "# To rotate the deque\n",
    "de.rotate(2)\n",
    "print(de)"
   ]
  },
  {
   "cell_type": "code",
   "execution_count": 11,
   "metadata": {},
   "outputs": [
    {
     "name": "stdout",
     "output_type": "stream",
     "text": [
      "100\n"
     ]
    },
    {
     "ename": "TypeError",
     "evalue": "sequence index must be integer, not 'slice'",
     "output_type": "error",
     "traceback": [
      "\u001b[1;31m---------------------------------------------------------------------------\u001b[0m",
      "\u001b[1;31mTypeError\u001b[0m                                 Traceback (most recent call last)",
      "\u001b[1;32m<ipython-input-11-5257053632b6>\u001b[0m in \u001b[0;36m<module>\u001b[1;34m\u001b[0m\n\u001b[0;32m      3\u001b[0m \u001b[0mprint\u001b[0m\u001b[1;33m(\u001b[0m\u001b[0mde\u001b[0m\u001b[1;33m[\u001b[0m\u001b[1;36m1\u001b[0m\u001b[1;33m]\u001b[0m\u001b[1;33m)\u001b[0m\u001b[1;33m\u001b[0m\u001b[1;33m\u001b[0m\u001b[0m\n\u001b[0;32m      4\u001b[0m \u001b[1;33m\u001b[0m\u001b[0m\n\u001b[1;32m----> 5\u001b[1;33m \u001b[0mprint\u001b[0m\u001b[1;33m(\u001b[0m\u001b[0mde\u001b[0m\u001b[1;33m[\u001b[0m\u001b[1;36m1\u001b[0m\u001b[1;33m:\u001b[0m\u001b[1;36m3\u001b[0m\u001b[1;33m]\u001b[0m\u001b[1;33m)\u001b[0m\u001b[1;33m\u001b[0m\u001b[1;33m\u001b[0m\u001b[0m\n\u001b[0m",
      "\u001b[1;31mTypeError\u001b[0m: sequence index must be integer, not 'slice'"
     ]
    }
   ],
   "source": [
    "# deque support accessing via index but not sliciding\n",
    "\n",
    "print(de[1])\n",
    "\n",
    "print(de[1:3])"
   ]
  }
 ],
 "metadata": {
  "kernelspec": {
   "display_name": "Python 3",
   "language": "python",
   "name": "python3"
  },
  "language_info": {
   "codemirror_mode": {
    "name": "ipython",
    "version": 3
   },
   "file_extension": ".py",
   "mimetype": "text/x-python",
   "name": "python",
   "nbconvert_exporter": "python",
   "pygments_lexer": "ipython3",
   "version": "3.6.7"
  }
 },
 "nbformat": 4,
 "nbformat_minor": 4
}
